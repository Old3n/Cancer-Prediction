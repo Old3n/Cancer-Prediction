{
 "cells": [
  {
   "cell_type": "code",
   "execution_count": null,
   "metadata": {},
   "outputs": [],
   "source": [
    "#importing basic libs\n",
    "import pandas as pd \n",
    "import numpy as mp"
   ]
  },
  {
   "cell_type": "code",
   "execution_count": null,
   "metadata": {},
   "outputs": [],
   "source": [
    "#load the Data into our project and check if we did it currectly \n",
    "df = pd.read_csv(\"Cancer.csv\")\n",
    "df.head()"
   ]
  },
  {
   "cell_type": "code",
   "execution_count": null,
   "metadata": {},
   "outputs": [],
   "source": [
    "#drop null values from dataframe\n",
    "df = df.dropna()\n",
    "#Check the size of the Dataframe \n",
    "sizes = df[\"class\"].value_counts(sort=1)\n",
    "sizes"
   ]
  },
  {
   "cell_type": "code",
   "execution_count": null,
   "metadata": {},
   "outputs": [],
   "source": [
    "#define dependent value \n",
    "Y = df['class'].values\n",
    "Y = Y.astype(int)\n",
    "#define independent value \n",
    "X = df.drop(labels=['class'],axis=1)"
   ]
  },
  {
   "cell_type": "code",
   "execution_count": null,
   "metadata": {},
   "outputs": [],
   "source": [
    "#split the data into train and test datasets \n",
    "from sklearn.model_selection import train_test_split\n",
    "X_train ,  X_test , Y_train , Y_test = train_test_split(X, Y, test_size=0.2,random_state=20)"
   ]
  },
  {
   "cell_type": "code",
   "execution_count": null,
   "metadata": {},
   "outputs": [],
   "source": [
    "#training our model \n",
    "from sklearn.ensemble import RandomForestClassifier \n",
    "model = RandomForestClassifier(n_estimators=10,random_state=20 )\n",
    "model.fit(X_train, Y_train)\n",
    "prediction = model.predict(X_test)\n",
    "#using sklean metrics to get accuracy score by percentage \n",
    "from sklearn import metrics\n",
    "result = metrics.accuracy_score(Y_test,prediction)\n",
    "print(\"accuracy score : {}%\".format(round(result*100,2)) )"
   ]
  }
 ],
 "metadata": {
  "kernelspec": {
   "display_name": "Python 3",
   "language": "python",
   "name": "python3"
  },
  "language_info": {
   "codemirror_mode": {
    "name": "ipython",
    "version": 3
   },
   "file_extension": ".py",
   "mimetype": "text/x-python",
   "name": "python",
   "nbconvert_exporter": "python",
   "pygments_lexer": "ipython3",
   "version": "3.12.3"
  }
 },
 "nbformat": 4,
 "nbformat_minor": 2
}
